{
 "cells": [
  {
   "cell_type": "code",
   "execution_count": 1,
   "id": "08a34823-fd16-4f73-8745-33615aabdca2",
   "metadata": {},
   "outputs": [],
   "source": [
    "import os\n",
    "import json\n",
    "import praw\n",
    "import requests"
   ]
  },
  {
   "cell_type": "code",
   "execution_count": 2,
   "id": "91a21c55-e111-492c-a0ac-74a06fa06b03",
   "metadata": {},
   "outputs": [],
   "source": [
    "import urllib3\n",
    "urllib3.disable_warnings()"
   ]
  },
  {
   "cell_type": "code",
   "execution_count": 3,
   "id": "32c9f9d8-908e-4e9c-82ff-5d154addd313",
   "metadata": {},
   "outputs": [],
   "source": [
    "input_file_forum_listing=\"forums.txt\"\n",
    "output_file_raw_reddit_content=\"reddit_content_spirituality.json\"\n",
    "post_limit_per_forum=1000"
   ]
  },
  {
   "cell_type": "code",
   "execution_count": 16,
   "id": "82a0ed85-25e1-43cc-ab51-acd6c6a4cb8e",
   "metadata": {},
   "outputs": [
    {
     "name": "stdout",
     "output_type": "stream",
     "text": [
      "['spiritual', 'Spiritualchills', 'spirituality', 'SpiritualAwakening']\n"
     ]
    }
   ],
   "source": [
    "with open(input_file_forum_listing, \"r\") as forum_list_f:\n",
    "    forum_list_content = forum_list_f.read() \n",
    "    forum_list = forum_list_content.split(\"\\n\") \n",
    "    print(forum_list) "
   ]
  },
  {
   "cell_type": "code",
   "execution_count": 20,
   "id": "c1467f02-79b0-4ceb-b253-1287ac61ba46",
   "metadata": {},
   "outputs": [
    {
     "name": "stdout",
     "output_type": "stream",
     "text": [
      "Going thru 4 forum data files\n",
      "\tForum datafile out__spiritual___reddit_content_spirituality.json has 772 records\n",
      "\tForum datafile out__Spiritualchills___reddit_content_spirituality.json has 223 records\n",
      "\tForum datafile out__spirituality___reddit_content_spirituality.json has 941 records\n",
      "\tForum datafile out__SpiritualAwakening___reddit_content_spirituality.json has 896 records\n",
      "Total data elements 2832\n"
     ]
    }
   ],
   "source": [
    "all_data = []\n",
    "print(f\"Going thru {len(forum_list)} forum data files\")\n",
    "for forum in forum_list:\n",
    "    forum_data_file = \"out__\" + forum + \"___\" + output_file_raw_reddit_content\n",
    "    with open(forum_data_file) as f:\n",
    "        data = json.load(f)\n",
    "        print(f\"\\tForum datafile {forum_data_file} has {len(data)} records\")\n",
    "        all_data = all_data + data\n",
    "print(f\"Total data elements {len(all_data)}\")"
   ]
  },
  {
   "cell_type": "code",
   "execution_count": 21,
   "id": "3778f567-bf26-4555-8a5e-8a1b20c0f379",
   "metadata": {},
   "outputs": [],
   "source": [
    "with open(output_file_raw_reddit_content, \"w\") as outfile:\n",
    "    json.dump(all_data, outfile, indent=5)"
   ]
  },
  {
   "cell_type": "code",
   "execution_count": null,
   "id": "6d602ca3-7255-4cc2-bc2e-1ba79bc283e6",
   "metadata": {},
   "outputs": [],
   "source": []
  }
 ],
 "metadata": {
  "kernelspec": {
   "display_name": "Python 3 (ipykernel)",
   "language": "python",
   "name": "python3"
  },
  "language_info": {
   "codemirror_mode": {
    "name": "ipython",
    "version": 3
   },
   "file_extension": ".py",
   "mimetype": "text/x-python",
   "name": "python",
   "nbconvert_exporter": "python",
   "pygments_lexer": "ipython3",
   "version": "3.10.13"
  }
 },
 "nbformat": 4,
 "nbformat_minor": 5
}
