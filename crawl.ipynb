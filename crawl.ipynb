{
 "cells": [
  {
   "cell_type": "code",
   "execution_count": 1,
   "id": "08a34823-fd16-4f73-8745-33615aabdca2",
   "metadata": {},
   "outputs": [],
   "source": [
    "import os\n",
    "import json\n",
    "import praw\n",
    "import requests"
   ]
  },
  {
   "cell_type": "code",
   "execution_count": 2,
   "id": "91a21c55-e111-492c-a0ac-74a06fa06b03",
   "metadata": {},
   "outputs": [],
   "source": [
    "import urllib3\n",
    "urllib3.disable_warnings()"
   ]
  },
  {
   "cell_type": "code",
   "execution_count": 3,
   "id": "32c9f9d8-908e-4e9c-82ff-5d154addd313",
   "metadata": {},
   "outputs": [],
   "source": [
    "input_file_forum_listing=\"forums.txt\"\n",
    "output_file_raw_reddit_content=\"reddit_content_spirituality.json\"\n",
    "post_limit_per_forum=1000"
   ]
  },
  {
   "cell_type": "code",
   "execution_count": 4,
   "id": "82a0ed85-25e1-43cc-ab51-acd6c6a4cb8e",
   "metadata": {},
   "outputs": [
    {
     "name": "stdout",
     "output_type": "stream",
     "text": [
      "['spirituality', 'SpiritualAwakening', 'spiritual', 'Spiritualchills']\n"
     ]
    }
   ],
   "source": [
    "with open(input_file_forum_listing, \"r\") as forum_list_f:\n",
    "    forum_list_content = forum_list_f.read() \n",
    "    forum_list = forum_list_content.split(\"\\n\") \n",
    "    print(forum_list) "
   ]
  },
  {
   "cell_type": "code",
   "execution_count": 5,
   "id": "25c6059a-6032-42c2-a9d3-dd9de89175e0",
   "metadata": {},
   "outputs": [],
   "source": [
    "session = requests.Session()\n",
    "session.verify = False\n",
    "\n",
    "CLIENT_ID=os.getenv('REDDIT_CLIENT_ID')\n",
    "CLIENT_SECRET=os.environ.get('REDDIT_CLIENT_SECRET')\n",
    "\n",
    "USER_AGENT='your_user_agent'\n",
    "\n",
    "reddit = praw.Reddit(client_id=CLIENT_ID,\n",
    "                     client_secret=CLIENT_SECRET,\n",
    "                     user_agent=USER_AGENT,\n",
    "                     requestor_kwargs={'session': session})"
   ]
  },
  {
   "cell_type": "code",
   "execution_count": null,
   "id": "641f669e-6a82-4db1-afb5-2b555d040c0b",
   "metadata": {},
   "outputs": [
    {
     "name": "stdout",
     "output_type": "stream",
     "text": [
      "Processing item 100 in forum spirituality\n",
      "Processing item 200 in forum spirituality\n",
      "Processing item 300 in forum spirituality\n",
      "Processing item 400 in forum spirituality\n",
      "Processing item 500 in forum spirituality\n",
      "Encountered error\n",
      "Processing item 600 in forum spirituality\n"
     ]
    }
   ],
   "source": [
    "scrape_count = 0\n",
    "questions = []\n",
    "for forum in forum_list:\n",
    "    forum_h = reddit.subreddit(forum)\n",
    "    reddit.config.store_json_result = True\n",
    "    forum_questions = []\n",
    "\n",
    "    # Retrieve posts from the subreddit\n",
    "    posts = forum_h.new(limit=post_limit_per_forum)  # Use the \"new\" method to retrieve new posts\n",
    "\n",
    "    # Iterate over the posts and extract relevant information\n",
    "    for post in posts:\n",
    "        scrape_count = scrape_count + 1\n",
    "        if scrape_count % 100 == 0:\n",
    "            print(f\"Processing item {scrape_count} in forum {forum}\")\n",
    "        entry={}\n",
    "        try:\n",
    "            #print(post)\n",
    "            #print(dir(post))\n",
    "            if post.id:\n",
    "                entry[\"id\"]=post.id\n",
    "            if post.subreddit and post.subreddit.display_name:\n",
    "                entry[\"forum\"]=post.subreddit.display_name\n",
    "            if post.title:\n",
    "                entry[\"title\"]=post.title\n",
    "            if post.score:\n",
    "                entry[\"score\"]=post.score\n",
    "            if post.author and post.author.name: \n",
    "                entry[\"author\"]=post.author.name\n",
    "            if post.selftext: \n",
    "                entry[\"content\"]=post.selftext\n",
    "            entry[\"created_utc\"]=post.created_utc\n",
    "            entry[\"created\"]=post.created\n",
    "            entry[\"url\"]=post.url\n",
    "            entry[\"upvote_ratio\"]=post.upvote_ratio\n",
    "            entry[\"ups\"]=post.ups\n",
    "            entry[\"downs\"]=post.downs\n",
    "            entry[\"shortlink\"]=post.shortlink\n",
    "            entry[\"permalink\"]=post.permalink\n",
    "            entry[\"view_count\"]=post.view_count\n",
    "            entry[\"comments\"]=len(post.comments)\n",
    "            questions.append(entry)\n",
    "            forum_questions.append(entry)\n",
    "        except:\n",
    "            print(\"Encountered error\")\n",
    "            \n",
    "    with open(\"out__\" + forum + \"___\" + output_file_raw_reddit_content, \"w\") as outfile:\n",
    "        json.dump(forum_questions, outfile, indent=5)"
   ]
  },
  {
   "cell_type": "code",
   "execution_count": null,
   "id": "3778f567-bf26-4555-8a5e-8a1b20c0f379",
   "metadata": {},
   "outputs": [],
   "source": [
    "with open(output_file_raw_reddit_content, \"w\") as outfile:\n",
    "    json.dump(questions, outfile, indent=5)"
   ]
  },
  {
   "cell_type": "code",
   "execution_count": null,
   "id": "6d602ca3-7255-4cc2-bc2e-1ba79bc283e6",
   "metadata": {},
   "outputs": [],
   "source": []
  }
 ],
 "metadata": {
  "kernelspec": {
   "display_name": "Python 3 (ipykernel)",
   "language": "python",
   "name": "python3"
  },
  "language_info": {
   "codemirror_mode": {
    "name": "ipython",
    "version": 3
   },
   "file_extension": ".py",
   "mimetype": "text/x-python",
   "name": "python",
   "nbconvert_exporter": "python",
   "pygments_lexer": "ipython3",
   "version": "3.10.13"
  }
 },
 "nbformat": 4,
 "nbformat_minor": 5
}
